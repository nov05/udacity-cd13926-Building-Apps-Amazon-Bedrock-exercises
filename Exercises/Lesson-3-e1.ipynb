{
 "cells": [
  {
   "cell_type": "code",
   "execution_count": 1,
   "metadata": {},
   "outputs": [],
   "source": [
    "import boto3\n",
    "import json"
   ]
  },
  {
   "cell_type": "code",
   "execution_count": 2,
   "metadata": {},
   "outputs": [],
   "source": [
    "s3 = boto3.client(\"s3\", region_name='us-west-2')\n",
    "\n",
    "response = s3.get_object(\n",
    "    Bucket='udacity-demo-asdfg',\n",
    "    Key='Apollo13.txt'\n",
    ")\n",
    "\n",
    "apollo13 = response['Body'].read().decode('utf-8')\n",
    "\n",
    "response = s3.get_object(\n",
    "    Bucket='udacity-demo-asdfg',\n",
    "    Key='transcript.txt'\n",
    ")\n",
    "\n",
    "transcript = response['Body'].read().decode('utf-8')\n"
   ]
  },
  {
   "cell_type": "code",
   "execution_count": 3,
   "metadata": {},
   "outputs": [],
   "source": [
    "client = boto3.client('bedrock-runtime', region_name='us-west-2')"
   ]
  },
  {
   "cell_type": "code",
   "execution_count": 4,
   "metadata": {},
   "outputs": [],
   "source": [
    "model_id = \"anthropic.claude-3-5-sonnet-20241022-v2:0\""
   ]
  },
  {
   "cell_type": "code",
   "execution_count": 5,
   "metadata": {},
   "outputs": [],
   "source": [
    "prompt_text = f\"\"\"\n",
    "<context>\n",
    "{apollo13}\n",
    "</context>\n",
    "\n",
    "<instruction>\n",
    "You are to give me a bullet point summary of what happened during the transctip.\n",
    "As well, please provide a sentiment analysis of the transcript.\n",
    "Please provide your response in a valid JSON format with the following keys:\n",
    "- summary: a bullet point summary of what happened during the transcript\n",
    "- sentiment: a sentiment analysis of the transcript\n",
    "</instruction>\n",
    "\n",
    "<text>\n",
    "{transcript}\n",
    "</text>\n",
    "\"\"\""
   ]
  },
  {
   "cell_type": "code",
   "execution_count": 6,
   "metadata": {},
   "outputs": [],
   "source": [
    "# Format the request payload using the model's native structure\n",
    "request_body = {\n",
    "    \"anthropic_version\": \"bedrock-2023-05-31\",\n",
    "    \"max_tokens\": 1024,\n",
    "    \"temperature\": 1,\n",
    "    'top_p': 0.999,\n",
    "    \"messages\": [\n",
    "        {\n",
    "            \"role\": \"user\",\n",
    "            \"content\": [{\"type\": \"text\", \"text\": prompt_text}]\n",
    "        }\n",
    "    ]\n",
    "}"
   ]
  },
  {
   "cell_type": "code",
   "execution_count": 7,
   "metadata": {},
   "outputs": [],
   "source": [
    "# Invoke the model\n",
    "response = client.invoke_model(\n",
    "    modelId=model_id,\n",
    "    body=json.dumps(request_body)\n",
    ")"
   ]
  },
  {
   "cell_type": "code",
   "execution_count": 8,
   "metadata": {},
   "outputs": [
    {
     "name": "stdout",
     "output_type": "stream",
     "text": [
      "{\n",
      "    \"summary\": [\n",
      "        \"- The transcript captures communications during a critical failure on Apollo 13\",\n",
      "        \"- Multiple system failures occurred, including oxygen tank problems and power issues\",\n",
      "        \"- The crew reported hearing a 'bang' followed by warning lights and system malfunctions\",\n",
      "        \"- Mission Control guided the crew through various power-down procedures\",\n",
      "        \"- Fuel cells 1 and 3 failed, leaving only fuel cell 2 operational\",\n",
      "        \"- The crew observed venting of gas into space through window 1\",\n",
      "        \"- Multiple thruster reconfigurations were necessary to maintain spacecraft stability\",\n",
      "        \"- Mission Control began planning for alternative mission scenarios using LM power\",\n",
      "        \"- Continuous monitoring of oxygen levels and power consumption became critical\"\n",
      "    ],\n",
      "    \"sentiment\": {\n",
      "        \"overall\": \"tense and urgent\",\n",
      "        \"key_aspects\": [\n",
      "            \"High stress levels evident in communications\",\n",
      "            \"Professional but concerned tone from both crew and Mission Control\",\n",
      "            \"Focused problem-solving approach despite emergency situation\",\n",
      "            \"Clear sense of urgency but maintained composure\",\n",
      "            \"Technical and methodical response to crisis\"\n",
      "        ]\n",
      "    }\n",
      "}\n"
     ]
    }
   ],
   "source": [
    "# Parse the response\n",
    "response_body = json.loads(response['body'].read())\n",
    "generated_text = response_body['content'][0]['text']\n",
    "print(generated_text)"
   ]
  },
  {
   "cell_type": "code",
   "execution_count": null,
   "metadata": {},
   "outputs": [],
   "source": []
  },
  {
   "cell_type": "code",
   "execution_count": null,
   "metadata": {},
   "outputs": [],
   "source": []
  },
  {
   "cell_type": "code",
   "execution_count": null,
   "metadata": {},
   "outputs": [],
   "source": []
  }
 ],
 "metadata": {
  "kernelspec": {
   "display_name": "udacity",
   "language": "python",
   "name": "python3"
  },
  "language_info": {
   "codemirror_mode": {
    "name": "ipython",
    "version": 3
   },
   "file_extension": ".py",
   "mimetype": "text/x-python",
   "name": "python",
   "nbconvert_exporter": "python",
   "pygments_lexer": "ipython3",
   "version": "3.12.0"
  }
 },
 "nbformat": 4,
 "nbformat_minor": 2
}
