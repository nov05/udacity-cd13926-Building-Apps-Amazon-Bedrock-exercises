{
 "cells": [
  {
   "cell_type": "code",
   "execution_count": 1,
   "metadata": {},
   "outputs": [],
   "source": [
    "import boto3\n",
    "import json\n",
    "import numpy as np\n",
    "from typing import List, Union"
   ]
  },
  {
   "cell_type": "code",
   "execution_count": 2,
   "metadata": {},
   "outputs": [],
   "source": [
    "def cosine_similarity(v1: Union[List[float], np.ndarray],\n",
    "                     v2: Union[List[float], np.ndarray]) -> float:\n",
    "    \"\"\"\n",
    "    Calculate the cosine similarity between two vectors.\n",
    "    Args:\n",
    "        v1: First vector (list or numpy array of floats)\n",
    "        v2: Second vector (list or numpy array of floats)\n",
    "    Returns:\n",
    "        float: Cosine similarity score between -1 and 1\n",
    "    Raises:\n",
    "        ValueError: If vectors are not of equal length or contain all zeros\n",
    "    \"\"\"\n",
    "    # Convert to numpy arrays if they aren't already\n",
    "    v1_array = np.array(v1)\n",
    "    v2_array = np.array(v2)\n",
    "    # Check if vectors are of equal length\n",
    "    if v1_array.shape != v2_array.shape:\n",
    "        raise ValueError(\"Vectors must be of equal length\")\n",
    "    # Calculate dot product and magnitudes\n",
    "    dot_product = np.dot(v1_array, v2_array)\n",
    "    magnitude1 = np.linalg.norm(v1_array)\n",
    "    magnitude2 = np.linalg.norm(v2_array)\n",
    "    # Check for zero vectors\n",
    "    if magnitude1 == 0 or magnitude2 == 0:\n",
    "        raise ValueError(\"Vectors must not be zero vectors\")\n",
    "    # Calculate cosine similarity\n",
    "    similarity = dot_product / (magnitude1 * magnitude2)\n",
    "    # Due to floating point precision, we might get values slightly outside [-1, 1]\n",
    "    return max(min(similarity, 1.0), -1.0)"
   ]
  },
  {
   "cell_type": "code",
   "execution_count": 3,
   "metadata": {},
   "outputs": [],
   "source": [
    "bedrock = boto3.client(\"bedrock-runtime\", region_name=\"us-west-2\")"
   ]
  },
  {
   "cell_type": "code",
   "execution_count": 4,
   "metadata": {},
   "outputs": [],
   "source": [
    "input_body = {\n",
    "                \"inputText\": \"The cat is blue\"\n",
    "            }\n",
    "response = bedrock.invoke_model(\n",
    "                modelId=\"amazon.titan-embed-text-v2:0\",\n",
    "                body=json.dumps(input_body)\n",
    "            )\n",
    "response_body = json.loads(response.get(\"body\").read())\n",
    "embedding_1 = response_body.get(\"embedding\")"
   ]
  },
  {
   "cell_type": "code",
   "execution_count": 8,
   "metadata": {},
   "outputs": [],
   "source": [
    "input_body = {\n",
    "                \"inputText\": \"The universe is very large\"\n",
    "            }\n",
    "response = bedrock.invoke_model(\n",
    "                modelId=\"amazon.titan-embed-text-v2:0\",\n",
    "                body=json.dumps(input_body)\n",
    "            )\n",
    "response_body = json.loads(response.get(\"body\").read())\n",
    "embedding_2 = response_body.get(\"embedding\")"
   ]
  },
  {
   "cell_type": "code",
   "execution_count": 9,
   "metadata": {},
   "outputs": [],
   "source": [
    "cosine = cosine_similarity(embedding_1, embedding_2)"
   ]
  },
  {
   "cell_type": "code",
   "execution_count": 7,
   "metadata": {},
   "outputs": [
    {
     "name": "stdout",
     "output_type": "stream",
     "text": [
      "0.7247902355380471\n"
     ]
    }
   ],
   "source": [
    "print(cosine)"
   ]
  },
  {
   "cell_type": "code",
   "execution_count": 10,
   "metadata": {},
   "outputs": [
    {
     "name": "stdout",
     "output_type": "stream",
     "text": [
      "0.10686074304086882\n"
     ]
    }
   ],
   "source": [
    "print(cosine)"
   ]
  },
  {
   "cell_type": "code",
   "execution_count": null,
   "metadata": {},
   "outputs": [],
   "source": [
    " "
   ]
  }
 ],
 "metadata": {
  "kernelspec": {
   "display_name": "udacity",
   "language": "python",
   "name": "python3"
  },
  "language_info": {
   "codemirror_mode": {
    "name": "ipython",
    "version": 3
   },
   "file_extension": ".py",
   "mimetype": "text/x-python",
   "name": "python",
   "nbconvert_exporter": "python",
   "pygments_lexer": "ipython3",
   "version": "3.12.0"
  }
 },
 "nbformat": 4,
 "nbformat_minor": 2
}
