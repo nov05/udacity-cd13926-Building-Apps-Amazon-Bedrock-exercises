{
 "cells": [
  {
   "cell_type": "code",
   "execution_count": 1,
   "metadata": {},
   "outputs": [],
   "source": [
    "import boto3\n",
    "import json"
   ]
  },
  {
   "cell_type": "code",
   "execution_count": 2,
   "metadata": {},
   "outputs": [],
   "source": [
    "client = boto3.client('bedrock-runtime', region_name='us-west-2')\n",
    "\n",
    "model_id = \"anthropic.claude-3-sonnet-20240229-v1:0\""
   ]
  },
  {
   "cell_type": "code",
   "execution_count": 3,
   "metadata": {},
   "outputs": [],
   "source": [
    "prompt_text = \"Provide a recepie for chocolate chip cookies.\""
   ]
  },
  {
   "cell_type": "code",
   "execution_count": 4,
   "metadata": {},
   "outputs": [],
   "source": [
    "# Format the request payload using the model's native structure\n",
    "request_body = {\n",
    "    \"anthropic_version\": \"bedrock-2023-05-31\",\n",
    "    \"max_tokens\": 1024,\n",
    "    \"temperature\": 0.7,\n",
    "    \"messages\": [\n",
    "        {\n",
    "            \"role\": \"user\",\n",
    "            \"content\": [{\"type\": \"text\", \"text\": prompt_text}]\n",
    "        }\n",
    "    ]\n",
    "}"
   ]
  },
  {
   "cell_type": "code",
   "execution_count": 5,
   "metadata": {},
   "outputs": [],
   "source": [
    "# Invoke the model\n",
    "response = client.invoke_model(\n",
    "    modelId=model_id,\n",
    "    body=json.dumps(request_body)\n",
    ")"
   ]
  },
  {
   "cell_type": "code",
   "execution_count": 7,
   "metadata": {},
   "outputs": [
    {
     "name": "stdout",
     "output_type": "stream",
     "text": [
      "{'ResponseMetadata': {'RequestId': 'e9a7f797-7be3-452a-8e26-6e3c36641c5b', 'HTTPStatusCode': 200, 'HTTPHeaders': {'date': 'Fri, 15 Nov 2024 20:39:56 GMT', 'content-type': 'application/json', 'content-length': '1560', 'connection': 'keep-alive', 'x-amzn-requestid': 'e9a7f797-7be3-452a-8e26-6e3c36641c5b', 'x-amzn-bedrock-invocation-latency': '8711', 'x-amzn-bedrock-output-token-count': '392', 'x-amzn-bedrock-input-token-count': '18'}, 'RetryAttempts': 0}, 'contentType': 'application/json', 'body': <botocore.response.StreamingBody object at 0x10562c850>}\n"
     ]
    }
   ],
   "source": [
    "print(response)"
   ]
  },
  {
   "cell_type": "code",
   "execution_count": 8,
   "metadata": {},
   "outputs": [],
   "source": [
    "\n",
    "# Parse the response\n",
    "response_body = json.loads(response['body'].read())"
   ]
  },
  {
   "cell_type": "code",
   "execution_count": 9,
   "metadata": {},
   "outputs": [
    {
     "name": "stdout",
     "output_type": "stream",
     "text": [
      "{'id': 'msg_bdrk_018HWzhtYC5KjBtGwCMPqLEB', 'type': 'message', 'role': 'assistant', 'model': 'claude-3-sonnet-20240229', 'content': [{'type': 'text', 'text': \"Here is a classic recipe for delicious chocolate chip cookies:\\n\\nChocolate Chip Cookies\\n\\nIngredients:\\n- 2 1/4 cups (281g) all-purpose flour\\n- 1 teaspoon baking soda\\n- 1 teaspoon salt\\n- 1 cup (230g) unsalted butter, softened to room temperature\\n- 3/4 cup (150g) granulated sugar\\n- 3/4 cup (165g) brown sugar\\n- 1 teaspoon vanilla extract\\n- 2 large eggs\\n- 2 cups (340g) semi-sweet chocolate chips\\n\\nInstructions:\\n\\n1. Preheat oven to 375°F (190°C). Line baking sheets with parchment paper.\\n\\n2. Whisk the flour, baking soda and salt together in a medium bowl. Set aside.\\n\\n3. In a large bowl, beat the butter, granulated sugar, brown sugar, and vanilla extract together until creamed, about 2-3 minutes. Add the eggs one at a time, beating well after each addition.\\n\\n4. Gradually stir the dry ingredients into the wet ingredients until just combined. Fold in the chocolate chips.\\n\\n5. Scoop rounds of dough, about 1.5 tablespoons each, onto the prepared baking sheets spacing them about 2 inches apart.\\n\\n6. Bake for 8-10 minutes, until edges are set but centers are still soft. \\n\\n7. Remove from the oven and allow to cool on the baking sheet for 5 minutes before transferring to a wire rack to cool completely.\\n\\nThat's it! Adjust baking time as needed for your perfect cookie texture. Enjoy!\"}], 'stop_reason': 'end_turn', 'stop_sequence': None, 'usage': {'input_tokens': 18, 'output_tokens': 392}}\n"
     ]
    }
   ],
   "source": [
    "print(response_body)"
   ]
  },
  {
   "cell_type": "code",
   "execution_count": 10,
   "metadata": {},
   "outputs": [],
   "source": [
    "\n",
    "# Extract the generated text\n",
    "generated_text = response_body['content'][0]['text']"
   ]
  },
  {
   "cell_type": "code",
   "execution_count": 11,
   "metadata": {},
   "outputs": [
    {
     "name": "stdout",
     "output_type": "stream",
     "text": [
      "Here is a classic recipe for delicious chocolate chip cookies:\n",
      "\n",
      "Chocolate Chip Cookies\n",
      "\n",
      "Ingredients:\n",
      "- 2 1/4 cups (281g) all-purpose flour\n",
      "- 1 teaspoon baking soda\n",
      "- 1 teaspoon salt\n",
      "- 1 cup (230g) unsalted butter, softened to room temperature\n",
      "- 3/4 cup (150g) granulated sugar\n",
      "- 3/4 cup (165g) brown sugar\n",
      "- 1 teaspoon vanilla extract\n",
      "- 2 large eggs\n",
      "- 2 cups (340g) semi-sweet chocolate chips\n",
      "\n",
      "Instructions:\n",
      "\n",
      "1. Preheat oven to 375°F (190°C). Line baking sheets with parchment paper.\n",
      "\n",
      "2. Whisk the flour, baking soda and salt together in a medium bowl. Set aside.\n",
      "\n",
      "3. In a large bowl, beat the butter, granulated sugar, brown sugar, and vanilla extract together until creamed, about 2-3 minutes. Add the eggs one at a time, beating well after each addition.\n",
      "\n",
      "4. Gradually stir the dry ingredients into the wet ingredients until just combined. Fold in the chocolate chips.\n",
      "\n",
      "5. Scoop rounds of dough, about 1.5 tablespoons each, onto the prepared baking sheets spacing them about 2 inches apart.\n",
      "\n",
      "6. Bake for 8-10 minutes, until edges are set but centers are still soft. \n",
      "\n",
      "7. Remove from the oven and allow to cool on the baking sheet for 5 minutes before transferring to a wire rack to cool completely.\n",
      "\n",
      "That's it! Adjust baking time as needed for your perfect cookie texture. Enjoy!\n"
     ]
    }
   ],
   "source": [
    "print(generated_text)"
   ]
  },
  {
   "cell_type": "code",
   "execution_count": null,
   "metadata": {},
   "outputs": [],
   "source": []
  }
 ],
 "metadata": {
  "kernelspec": {
   "display_name": "udacity",
   "language": "python",
   "name": "python3"
  },
  "language_info": {
   "codemirror_mode": {
    "name": "ipython",
    "version": 3
   },
   "file_extension": ".py",
   "mimetype": "text/x-python",
   "name": "python",
   "nbconvert_exporter": "python",
   "pygments_lexer": "ipython3",
   "version": "3.12.0"
  }
 },
 "nbformat": 4,
 "nbformat_minor": 2
}
