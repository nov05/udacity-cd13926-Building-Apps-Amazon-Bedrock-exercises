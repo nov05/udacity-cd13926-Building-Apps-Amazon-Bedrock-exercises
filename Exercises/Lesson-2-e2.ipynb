{
 "cells": [
  {
   "cell_type": "code",
   "execution_count": 1,
   "metadata": {},
   "outputs": [],
   "source": [
    "import boto3\n",
    "import json"
   ]
  },
  {
   "cell_type": "code",
   "execution_count": 2,
   "metadata": {},
   "outputs": [],
   "source": [
    "s3 = boto3.client(\"s3\", region_name='us-west-2')\n",
    "\n",
    "response = s3.get_object(\n",
    "    Bucket='udacity-demo-asdfg',\n",
    "    Key='Apollo13.txt'\n",
    ")\n",
    "\n",
    "apollo13 = response['Body'].read().decode('utf-8')\n",
    "\n",
    "response = s3.get_object(\n",
    "    Bucket='udacity-demo-asdfg',\n",
    "    Key='transcript.txt'\n",
    ")\n",
    "\n",
    "transcript = response['Body'].read().decode('utf-8')\n"
   ]
  },
  {
   "cell_type": "code",
   "execution_count": 3,
   "metadata": {},
   "outputs": [],
   "source": [
    "client = boto3.client('bedrock-runtime', region_name='us-west-2')"
   ]
  },
  {
   "cell_type": "code",
   "execution_count": 4,
   "metadata": {},
   "outputs": [],
   "source": [
    "model_id = \"anthropic.claude-3-5-sonnet-20241022-v2:0\""
   ]
  },
  {
   "cell_type": "code",
   "execution_count": 5,
   "metadata": {},
   "outputs": [],
   "source": [
    "prompt_text = f\"\"\"\n",
    "<context>\n",
    "{apollo13}\n",
    "</context>\n",
    "\n",
    "<instruction>\n",
    "You are a creative story teller. Given a text, you create a positive high energy story. You stay to the facts of the story while still making it engaging.\n",
    "You are to create a story that captures the main topics of the text. The story should be no more than 500 words.\n",
    "</instruction>\n",
    "\n",
    "<text>\n",
    "{transcript}\n",
    "</text>\n",
    "\"\"\""
   ]
  },
  {
   "cell_type": "code",
   "execution_count": 6,
   "metadata": {},
   "outputs": [],
   "source": [
    "# Format the request payload using the model's native structure\n",
    "request_body = {\n",
    "    \"anthropic_version\": \"bedrock-2023-05-31\",\n",
    "    \"max_tokens\": 1024,\n",
    "    \"temperature\": 1,\n",
    "    'top_p': 0.999,\n",
    "    \"messages\": [\n",
    "        {\n",
    "            \"role\": \"user\",\n",
    "            \"content\": [{\"type\": \"text\", \"text\": prompt_text}]\n",
    "        }\n",
    "    ]\n",
    "}"
   ]
  },
  {
   "cell_type": "code",
   "execution_count": 7,
   "metadata": {},
   "outputs": [],
   "source": [
    "# Invoke the model\n",
    "response = client.invoke_model(\n",
    "    modelId=model_id,\n",
    "    body=json.dumps(request_body)\n",
    ")"
   ]
  },
  {
   "cell_type": "code",
   "execution_count": 8,
   "metadata": {},
   "outputs": [
    {
     "name": "stdout",
     "output_type": "stream",
     "text": [
      "Let me craft an engaging story about Apollo 13's incredible journey of survival and triumph:\n",
      "\n",
      "\"The Successful Failure: Apollo 13's Remarkable Story of Survival\"\n",
      "\n",
      "What started as NASA's third planned lunar landing mission became one of the most incredible stories of human ingenuity, courage, and teamwork in space exploration history. On April 11, 1970, astronauts Jim Lovell, Fred Haise, and Jack Swigert blasted off toward the moon in Apollo 13, unaware they were about to embark on a mission that would grip the world's attention.\n",
      "\n",
      "Two days into what seemed like a smooth flight, disaster struck. A violent explosion rocked the spacecraft, causing the crew to famously report, \"Houston, we've had a problem.\" An oxygen tank had ruptured, crippling the command module Odyssey and putting the crew's lives in grave danger, 200,000 miles from Earth.\n",
      "\n",
      "What followed was a masterclass in creative problem-solving and determination. The crew quickly took refuge in the lunar module Aquarius, which became their lifeboat in space. Mission Control worked around the clock, improvising solutions to seemingly impossible challenges. They had to figure out how to stretch Aquarius's life support systems – designed for two people for two days – to keep three astronauts alive for four days.\n",
      "\n",
      "The crew faced bitter cold, limited power, and a critical need to conserve water and oxygen. In one of the most innovative solutions, ground controllers helped the crew create makeshift air purifiers using plastic bags, cardboard, and tape to prevent carbon dioxide poisoning. The astronauts remained remarkably calm despite losing 31.5 pounds collectively due to severe water rationing.\n",
      "\n",
      "The team's greatest triumph came during a crucial navigation maneuver around the moon. Despite debris clouding their view of the stars, they achieved a near-perfect alignment using the sun as their guide. This precision meant the difference between returning to Earth and being lost in space.\n",
      "\n",
      "After five harrowing days, on April 17, 1970, Apollo 13 splashed down safely in the Pacific Ocean. While the mission never reached its intended lunar landing site, it demonstrated humanity's incredible ability to turn potential tragedy into triumph through collaboration, innovation, and sheer determination. NASA dubbed it a \"successful failure\" – a mission that showed the true spirit of human space exploration and our capacity to overcome seemingly impossible odds.\n",
      "\n",
      "The story of Apollo 13 remains a testament to what people can achieve when they work together, think creatively, and refuse to give up hope, even in the darkest moments 200,000 miles from home.\n"
     ]
    }
   ],
   "source": [
    "# Parse the response\n",
    "response_body = json.loads(response['body'].read())\n",
    "generated_text = response_body['content'][0]['text']\n",
    "print(generated_text)"
   ]
  },
  {
   "cell_type": "code",
   "execution_count": null,
   "metadata": {},
   "outputs": [],
   "source": []
  },
  {
   "cell_type": "code",
   "execution_count": null,
   "metadata": {},
   "outputs": [],
   "source": []
  },
  {
   "cell_type": "code",
   "execution_count": null,
   "metadata": {},
   "outputs": [],
   "source": []
  }
 ],
 "metadata": {
  "kernelspec": {
   "display_name": "udacity",
   "language": "python",
   "name": "python3"
  },
  "language_info": {
   "codemirror_mode": {
    "name": "ipython",
    "version": 3
   },
   "file_extension": ".py",
   "mimetype": "text/x-python",
   "name": "python",
   "nbconvert_exporter": "python",
   "pygments_lexer": "ipython3",
   "version": "3.12.0"
  }
 },
 "nbformat": 4,
 "nbformat_minor": 2
}
