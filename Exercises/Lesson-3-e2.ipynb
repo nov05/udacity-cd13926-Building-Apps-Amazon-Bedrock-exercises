{
 "cells": [
  {
   "cell_type": "code",
   "execution_count": 1,
   "metadata": {},
   "outputs": [],
   "source": [
    "import boto3\n",
    "import json"
   ]
  },
  {
   "cell_type": "code",
   "execution_count": 2,
   "metadata": {},
   "outputs": [],
   "source": [
    "bedrock  = boto3.client('bedrock-agent-runtime')"
   ]
  },
  {
   "cell_type": "code",
   "execution_count": 3,
   "metadata": {},
   "outputs": [],
   "source": [
    "model_arn = \"arn:aws:bedrock:us-west-2::foundation-model/anthropic.claude-3-5-sonnet-20241022-v2:0\""
   ]
  },
  {
   "cell_type": "code",
   "execution_count": 4,
   "metadata": {},
   "outputs": [],
   "source": [
    "prompt_text = f\"\"\"\n",
    "\n",
    "<instruction>\n",
    "You are to give me a bullet point summary of the text retrieved.\n",
    "As well, please provide a sentiment analysis of the information retrieved.\n",
    "Please provide your response in a valid JSON format with the following keys:\n",
    "- summary: a bullet point summary of what happened\n",
    "- sentiment: a sentiment analysis of the text\n",
    "</instruction>\n",
    "\n",
    "<task>\n",
    "What happaned at Amazon in 2023?\n",
    "</task>\n",
    "\n",
    "\"\"\""
   ]
  },
  {
   "cell_type": "code",
   "execution_count": 5,
   "metadata": {},
   "outputs": [],
   "source": [
    "response = bedrock.retrieve_and_generate(\n",
    "    input={\n",
    "        'text': prompt_text,\n",
    "    },\n",
    "    retrieveAndGenerateConfiguration={\n",
    "        'type': 'KNOWLEDGE_BASE',\n",
    "        'knowledgeBaseConfiguration': {\n",
    "            'knowledgeBaseId': \"W6IF6PJR2Q\",\n",
    "            'modelArn': model_arn,\n",
    "        }\n",
    "    }\n",
    ")"
   ]
  },
  {
   "cell_type": "code",
   "execution_count": 6,
   "metadata": {},
   "outputs": [
    {
     "name": "stdout",
     "output_type": "stream",
     "text": [
      "{\n",
      "  \"summary\": [\n",
      "    \"• Amazon's total revenue grew 12% year-over-year to $575B\",\n",
      "    \"• Operating income improved 201% to $36.9B with margin increasing to 6.4%\",\n",
      "    \"• Free Cash Flow improved significantly from -$12.8B in 2022 to $35.5B\",\n",
      "    \"• Delivered over 7 billion items with same or next day delivery to Prime members\",\n",
      "    \"• Customers saved nearly $24B across deals and coupons (70% more than previous year)\",\n",
      "    \"• Added several premium brands including Coach, Victoria's Secret, Clinique, and others\",\n",
      "    \"• Successfully executed Prime Big Deal Days and largest-ever Black Friday/Cyber Monday event\",\n",
      "    \"• Expanded retail selection with tens of millions of new products\"\n",
      "  ],\n",
      "  \"sentiment\": \"The text reflects a highly positive sentiment, with strong emphasis on growth, improvement, and success. The language used is optimistic and confident, highlighting significant financial improvements and customer experience enhancements. Terms like 'meaningful progress,' 'enthusiastically responded,' and 'largest revenue event ever' indicate a triumphant year for Amazon with substantial achievements across multiple business metrics.\"\n",
      "}\n"
     ]
    }
   ],
   "source": [
    "print(response['citations'][0]['generatedResponsePart']['textResponsePart']['text'])"
   ]
  },
  {
   "cell_type": "code",
   "execution_count": null,
   "metadata": {},
   "outputs": [],
   "source": []
  }
 ],
 "metadata": {
  "kernelspec": {
   "display_name": "udacity",
   "language": "python",
   "name": "python3"
  },
  "language_info": {
   "codemirror_mode": {
    "name": "ipython",
    "version": 3
   },
   "file_extension": ".py",
   "mimetype": "text/x-python",
   "name": "python",
   "nbconvert_exporter": "python",
   "pygments_lexer": "ipython3",
   "version": "3.12.0"
  }
 },
 "nbformat": 4,
 "nbformat_minor": 2
}
